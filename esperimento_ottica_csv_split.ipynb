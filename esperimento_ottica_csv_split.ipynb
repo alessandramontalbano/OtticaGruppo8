{
 "cells": [
  {
   "cell_type": "markdown",
   "id": "56883b1b",
   "metadata": {},
   "source": [
    "# Esperimento di ottica: diffrazione"
   ]
  },
  {
   "cell_type": "code",
   "execution_count": 1,
   "id": "89aa5530",
   "metadata": {},
   "outputs": [],
   "source": [
    "import pandas as pd\n",
    "import numpy as np\n",
    "import matplotlib.pyplot as plt\n",
    "import matplotlib.ticker as plticker\n",
    "import math\n",
    "import os, sys\n",
    "plt.style.use('seaborn-whitegrid')\n",
    "import matplotlib\n",
    "matplotlib.rcParams.update({'errorbar.capsize': 3})\n",
    "\n",
    "%precision 20\n",
    "np.set_printoptions(suppress=True) #sopprime la notazione scientifica"
   ]
  },
  {
   "cell_type": "code",
   "execution_count": null,
   "id": "8659865d",
   "metadata": {},
   "outputs": [],
   "source": [
    "df = pd.read_csv('Capstone_Data.csv',delimiter=',')\n",
    "n = df.shape[1] #number of columns\n",
    "df"
   ]
  },
  {
   "cell_type": "markdown",
   "id": "573cc3b1",
   "metadata": {},
   "source": [
    "We split the main csv file into subsets save the dataframes into csv files"
   ]
  },
  {
   "cell_type": "code",
   "execution_count": null,
   "id": "b57298c8",
   "metadata": {},
   "outputs": [],
   "source": [
    "set_names = []\n",
    "k = 0\n",
    "d = {}\n",
    "for i in range(0,n,2):\n",
    "    set_names.append(df.columns[::][i].rpartition(' ')[2])\n",
    "    #print(set_names[k])\n",
    "    d[set_names[k]] = df.iloc[:,i:i+2].dropna()\n",
    "    df.iloc[:,i:i+2].dropna().to_csv(\"sets_optics\\ \"+ set_names[k]+ \".txt\",sep='\\t',float_format=\"%.10f\",index=False)\n",
    "    k +=1"
   ]
  },
  {
   "cell_type": "code",
   "execution_count": null,
   "id": "8dfed301",
   "metadata": {},
   "outputs": [],
   "source": [
    "#per esempio possiamo aprire il primo set di dati e plottarlo, vediamo se li ho divisi correttamente\n",
    "d['Alessio_0.02_1.5_lampadina_old']"
   ]
  },
  {
   "cell_type": "code",
   "execution_count": null,
   "id": "02547a1b",
   "metadata": {},
   "outputs": [],
   "source": [
    "fig, ax = plt.subplots(figsize=(15, 7))\n",
    "plt.errorbar(d['Alessio_0.02_1.5_lampadina_old'].iloc[:,1:].values,d['Alessio_0.02_1.5_lampadina_old'].iloc[:,:1].values,\n",
    "             xerr = None,marker='.', label=df.columns[::][0].rpartition(' ')[2]);\n",
    "\n",
    "plt.xlabel('Distanza [m]', fontsize =20)\n",
    "ax.tick_params(axis = 'both', which = 'major', labelsize = 20)\n",
    "plt.ylabel('d.d.p. [V]', fontsize = 20)\n",
    "plt.xticks(np.arange(-0.18, 0.01, step=0.02))\n",
    "plt.legend(loc=1, prop={'size': 12});\n",
    "plt.show()"
   ]
  },
  {
   "cell_type": "code",
   "execution_count": null,
   "id": "4c6310e2",
   "metadata": {},
   "outputs": [],
   "source": [
    "fig, ax = plt.subplots(figsize=(15, 7))\n",
    "plt.errorbar(d['Alessandra_0.02_1.5_lampadina'].iloc[:,1:].values,d['Alessandra_0.02_1.5_lampadina'].iloc[:,:1].values,\n",
    "             xerr = None,marker='.', label=df.columns[::][(-1)*2-2].rpartition(' ')[2]);\n",
    "\n",
    "plt.xlabel('Distanza [m]', fontsize =20)\n",
    "ax.tick_params(axis = 'both', which = 'major', labelsize = 20)\n",
    "plt.ylabel('d.d.p. [V]', fontsize = 20)\n",
    "plt.xticks(np.arange(-0.18, 0.01, step=0.02))\n",
    "plt.legend(loc=1, prop={'size': 12});\n",
    "plt.show()"
   ]
  },
  {
   "cell_type": "code",
   "execution_count": null,
   "id": "c2d01b15",
   "metadata": {},
   "outputs": [],
   "source": []
  }
 ],
 "metadata": {
  "kernelspec": {
   "display_name": "Python 3 (ipykernel)",
   "language": "python",
   "name": "python3"
  },
  "language_info": {
   "codemirror_mode": {
    "name": "ipython",
    "version": 3
   },
   "file_extension": ".py",
   "mimetype": "text/x-python",
   "name": "python",
   "nbconvert_exporter": "python",
   "pygments_lexer": "ipython3",
   "version": "3.9.7"
  }
 },
 "nbformat": 4,
 "nbformat_minor": 5
}
