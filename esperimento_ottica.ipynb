{
 "cells": [
  {
   "cell_type": "markdown",
   "id": "180912d2",
   "metadata": {},
   "source": [
    "# Esperimento di ottica: diffrazione"
   ]
  },
  {
   "cell_type": "code",
   "execution_count": 1,
   "id": "c014961a",
   "metadata": {},
   "outputs": [],
   "source": [
    "import pandas as pd\n",
    "import numpy as np\n",
    "import matplotlib.pyplot as plt\n",
    "import matplotlib.ticker as plticker\n",
    "import math\n",
    "plt.style.use('seaborn-whitegrid')\n",
    "import matplotlib\n",
    "matplotlib.rcParams.update({'errorbar.capsize': 3})\n",
    "\n",
    "%precision 20\n",
    "np.set_printoptions(suppress=True) #sopprime la notazione scientifica"
   ]
  },
  {
   "cell_type": "code",
   "execution_count": 2,
   "id": "b6cb30bf",
   "metadata": {},
   "outputs": [],
   "source": [
    "df = pd.read_csv('Capstone_Data.csv',delimiter=',')\n",
    "n = df.shape[1] #number of columns\n",
    "df"
   ]
  },
  {
   "cell_type": "markdown",
   "id": "85995ab5",
   "metadata": {},
   "source": [
    "We split the main csv file into subsets save the dataframes into csv files"
   ]
  },
  {
   "cell_type": "code",
   "execution_count": 17,
   "id": "9c38f187",
   "metadata": {},
   "outputs": [],
   "source": [
    "set_names = []\n",
    "k = 0\n",
    "for i in range(0,n,2):\n",
    "    set_names.append(df.columns[::][i].rpartition(' ')[2])\n",
    "    #print(set_names[k])\n",
    "    df.iloc[:,i:i+2].dropna().to_csv(\"sets\\ \"+ set_names[k],sep='\\t',float_format=\"%.10f\",index=False)\n",
    "    k +=1"
   ]
  },
  {
   "cell_type": "code",
   "execution_count": null,
   "id": "b9948113",
   "metadata": {},
   "outputs": [],
   "source": []
  },
  {
   "cell_type": "code",
   "execution_count": null,
   "id": "752191c7",
   "metadata": {},
   "outputs": [],
   "source": []
  }
 ],
 "metadata": {
  "kernelspec": {
   "display_name": "Python 3 (ipykernel)",
   "language": "python",
   "name": "python3"
  },
  "language_info": {
   "codemirror_mode": {
    "name": "ipython",
    "version": 3
   },
   "file_extension": ".py",
   "mimetype": "text/x-python",
   "name": "python",
   "nbconvert_exporter": "python",
   "pygments_lexer": "ipython3",
   "version": "3.9.7"
  }
 },
 "nbformat": 4,
 "nbformat_minor": 5
}
